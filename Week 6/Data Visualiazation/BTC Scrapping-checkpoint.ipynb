{
 "cells": [
  {
   "cell_type": "code",
   "execution_count": 5,
   "id": "659be50e",
   "metadata": {},
   "outputs": [
    {
     "name": "stdout",
     "output_type": "stream",
     "text": [
      "Ahmed Ali Khan\n"
     ]
    }
   ],
   "source": [
    "print('Ahmed Ali Khan')"
   ]
  },
  {
   "cell_type": "code",
   "execution_count": 6,
   "id": "bd8bfce8",
   "metadata": {},
   "outputs": [],
   "source": [
    "import pandas as pd\n",
    "import os \n",
    "import sqlite3"
   ]
  },
  {
   "cell_type": "code",
   "execution_count": 7,
   "id": "eef64852",
   "metadata": {},
   "outputs": [
    {
     "data": {
      "text/html": [
       "<div>\n",
       "<style scoped>\n",
       "    .dataframe tbody tr th:only-of-type {\n",
       "        vertical-align: middle;\n",
       "    }\n",
       "\n",
       "    .dataframe tbody tr th {\n",
       "        vertical-align: top;\n",
       "    }\n",
       "\n",
       "    .dataframe thead th {\n",
       "        text-align: right;\n",
       "    }\n",
       "</style>\n",
       "<table border=\"1\" class=\"dataframe\">\n",
       "  <thead>\n",
       "    <tr style=\"text-align: right;\">\n",
       "      <th></th>\n",
       "      <th>Date</th>\n",
       "      <th>Price</th>\n",
       "      <th>Open</th>\n",
       "      <th>High</th>\n",
       "      <th>Low</th>\n",
       "      <th>Vol.</th>\n",
       "      <th>Change %</th>\n",
       "    </tr>\n",
       "  </thead>\n",
       "  <tbody>\n",
       "    <tr>\n",
       "      <th>0</th>\n",
       "      <td>2021-12-31</td>\n",
       "      <td>46219.5</td>\n",
       "      <td>47123.3</td>\n",
       "      <td>48553.9</td>\n",
       "      <td>45693.6</td>\n",
       "      <td>58.18K</td>\n",
       "      <td>-1.92</td>\n",
       "    </tr>\n",
       "    <tr>\n",
       "      <th>1</th>\n",
       "      <td>2021-12-30</td>\n",
       "      <td>47123.3</td>\n",
       "      <td>46470.7</td>\n",
       "      <td>47901.4</td>\n",
       "      <td>46003.0</td>\n",
       "      <td>60.96K</td>\n",
       "      <td>1.42</td>\n",
       "    </tr>\n",
       "    <tr>\n",
       "      <th>2</th>\n",
       "      <td>2021-12-29</td>\n",
       "      <td>46461.7</td>\n",
       "      <td>47548.4</td>\n",
       "      <td>48121.7</td>\n",
       "      <td>46127.8</td>\n",
       "      <td>63.92K</td>\n",
       "      <td>-2.28</td>\n",
       "    </tr>\n",
       "    <tr>\n",
       "      <th>3</th>\n",
       "      <td>2021-12-28</td>\n",
       "      <td>47545.2</td>\n",
       "      <td>50703.4</td>\n",
       "      <td>50703.8</td>\n",
       "      <td>47345.7</td>\n",
       "      <td>74.39K</td>\n",
       "      <td>-6.18</td>\n",
       "    </tr>\n",
       "    <tr>\n",
       "      <th>4</th>\n",
       "      <td>2021-12-27</td>\n",
       "      <td>50678.2</td>\n",
       "      <td>50783.6</td>\n",
       "      <td>52016.3</td>\n",
       "      <td>50459.0</td>\n",
       "      <td>43.90K</td>\n",
       "      <td>-0.20</td>\n",
       "    </tr>\n",
       "    <tr>\n",
       "      <th>...</th>\n",
       "      <td>...</td>\n",
       "      <td>...</td>\n",
       "      <td>...</td>\n",
       "      <td>...</td>\n",
       "      <td>...</td>\n",
       "      <td>...</td>\n",
       "      <td>...</td>\n",
       "    </tr>\n",
       "    <tr>\n",
       "      <th>3648</th>\n",
       "      <td>2012-01-05</td>\n",
       "      <td>6.9</td>\n",
       "      <td>5.6</td>\n",
       "      <td>7.2</td>\n",
       "      <td>5.6</td>\n",
       "      <td>182.33K</td>\n",
       "      <td>24.78</td>\n",
       "    </tr>\n",
       "    <tr>\n",
       "      <th>3649</th>\n",
       "      <td>2012-01-04</td>\n",
       "      <td>5.6</td>\n",
       "      <td>4.9</td>\n",
       "      <td>5.7</td>\n",
       "      <td>4.8</td>\n",
       "      <td>131.17K</td>\n",
       "      <td>14.14</td>\n",
       "    </tr>\n",
       "    <tr>\n",
       "      <th>3650</th>\n",
       "      <td>2012-01-03</td>\n",
       "      <td>4.9</td>\n",
       "      <td>5.2</td>\n",
       "      <td>5.3</td>\n",
       "      <td>4.7</td>\n",
       "      <td>125.17K</td>\n",
       "      <td>-6.51</td>\n",
       "    </tr>\n",
       "    <tr>\n",
       "      <th>3651</th>\n",
       "      <td>2012-01-02</td>\n",
       "      <td>5.2</td>\n",
       "      <td>5.3</td>\n",
       "      <td>5.5</td>\n",
       "      <td>4.8</td>\n",
       "      <td>69.15K</td>\n",
       "      <td>-0.95</td>\n",
       "    </tr>\n",
       "    <tr>\n",
       "      <th>3652</th>\n",
       "      <td>2012-01-01</td>\n",
       "      <td>5.3</td>\n",
       "      <td>4.7</td>\n",
       "      <td>5.5</td>\n",
       "      <td>4.6</td>\n",
       "      <td>108.51K</td>\n",
       "      <td>11.65</td>\n",
       "    </tr>\n",
       "  </tbody>\n",
       "</table>\n",
       "<p>3653 rows × 7 columns</p>\n",
       "</div>"
      ],
      "text/plain": [
       "            Date    Price     Open     High      Low     Vol.  Change %\n",
       "0     2021-12-31  46219.5  47123.3  48553.9  45693.6   58.18K     -1.92\n",
       "1     2021-12-30  47123.3  46470.7  47901.4  46003.0   60.96K      1.42\n",
       "2     2021-12-29  46461.7  47548.4  48121.7  46127.8   63.92K     -2.28\n",
       "3     2021-12-28  47545.2  50703.4  50703.8  47345.7   74.39K     -6.18\n",
       "4     2021-12-27  50678.2  50783.6  52016.3  50459.0   43.90K     -0.20\n",
       "...          ...      ...      ...      ...      ...      ...       ...\n",
       "3648  2012-01-05      6.9      5.6      7.2      5.6  182.33K     24.78\n",
       "3649  2012-01-04      5.6      4.9      5.7      4.8  131.17K     14.14\n",
       "3650  2012-01-03      4.9      5.2      5.3      4.7  125.17K     -6.51\n",
       "3651  2012-01-02      5.2      5.3      5.5      4.8   69.15K     -0.95\n",
       "3652  2012-01-01      5.3      4.7      5.5      4.6  108.51K     11.65\n",
       "\n",
       "[3653 rows x 7 columns]"
      ]
     },
     "execution_count": 7,
     "metadata": {},
     "output_type": "execute_result"
    }
   ],
   "source": [
    "data_set=pd.read_csv('F:\\\\FDS Python Scrapping\\\\BTC 2012-2021.csv')\n",
    "data_set"
   ]
  },
  {
   "cell_type": "code",
   "execution_count": 14,
   "id": "538b92ce",
   "metadata": {},
   "outputs": [
    {
     "data": {
      "text/html": [
       "<div>\n",
       "<style scoped>\n",
       "    .dataframe tbody tr th:only-of-type {\n",
       "        vertical-align: middle;\n",
       "    }\n",
       "\n",
       "    .dataframe tbody tr th {\n",
       "        vertical-align: top;\n",
       "    }\n",
       "\n",
       "    .dataframe thead th {\n",
       "        text-align: right;\n",
       "    }\n",
       "</style>\n",
       "<table border=\"1\" class=\"dataframe\">\n",
       "  <thead>\n",
       "    <tr style=\"text-align: right;\">\n",
       "      <th></th>\n",
       "      <th>Date</th>\n",
       "      <th>Price</th>\n",
       "      <th>Open</th>\n",
       "      <th>High</th>\n",
       "      <th>Low</th>\n",
       "      <th>Vol.</th>\n",
       "      <th>Change %</th>\n",
       "    </tr>\n",
       "  </thead>\n",
       "  <tbody>\n",
       "    <tr>\n",
       "      <th>1</th>\n",
       "      <td>2021-12-30</td>\n",
       "      <td>47123.3</td>\n",
       "      <td>46470.7</td>\n",
       "      <td>47901.4</td>\n",
       "      <td>46003.0</td>\n",
       "      <td>60.96K</td>\n",
       "      <td>1.42</td>\n",
       "    </tr>\n",
       "    <tr>\n",
       "      <th>2</th>\n",
       "      <td>2021-12-29</td>\n",
       "      <td>46461.7</td>\n",
       "      <td>47548.4</td>\n",
       "      <td>48121.7</td>\n",
       "      <td>46127.8</td>\n",
       "      <td>63.92K</td>\n",
       "      <td>-2.28</td>\n",
       "    </tr>\n",
       "    <tr>\n",
       "      <th>3</th>\n",
       "      <td>2021-12-28</td>\n",
       "      <td>47545.2</td>\n",
       "      <td>50703.4</td>\n",
       "      <td>50703.8</td>\n",
       "      <td>47345.7</td>\n",
       "      <td>74.39K</td>\n",
       "      <td>-6.18</td>\n",
       "    </tr>\n",
       "    <tr>\n",
       "      <th>4</th>\n",
       "      <td>2021-12-27</td>\n",
       "      <td>50678.2</td>\n",
       "      <td>50783.6</td>\n",
       "      <td>52016.3</td>\n",
       "      <td>50459.0</td>\n",
       "      <td>43.90K</td>\n",
       "      <td>-0.20</td>\n",
       "    </tr>\n",
       "    <tr>\n",
       "      <th>5</th>\n",
       "      <td>2021-12-26</td>\n",
       "      <td>50779.9</td>\n",
       "      <td>50404.0</td>\n",
       "      <td>51247.0</td>\n",
       "      <td>49527.0</td>\n",
       "      <td>32.34K</td>\n",
       "      <td>0.74</td>\n",
       "    </tr>\n",
       "    <tr>\n",
       "      <th>6</th>\n",
       "      <td>2021-12-25</td>\n",
       "      <td>50406.4</td>\n",
       "      <td>50789.6</td>\n",
       "      <td>51140.2</td>\n",
       "      <td>50196.8</td>\n",
       "      <td>26.67K</td>\n",
       "      <td>-0.75</td>\n",
       "    </tr>\n",
       "    <tr>\n",
       "      <th>7</th>\n",
       "      <td>2021-12-24</td>\n",
       "      <td>50786.1</td>\n",
       "      <td>50807.4</td>\n",
       "      <td>51795.3</td>\n",
       "      <td>50428.4</td>\n",
       "      <td>45.97K</td>\n",
       "      <td>-0.03</td>\n",
       "    </tr>\n",
       "    <tr>\n",
       "      <th>8</th>\n",
       "      <td>2021-12-23</td>\n",
       "      <td>50801.0</td>\n",
       "      <td>48599.6</td>\n",
       "      <td>51355.6</td>\n",
       "      <td>48053.4</td>\n",
       "      <td>56.24K</td>\n",
       "      <td>4.53</td>\n",
       "    </tr>\n",
       "  </tbody>\n",
       "</table>\n",
       "</div>"
      ],
      "text/plain": [
       "         Date    Price     Open     High      Low    Vol.  Change %\n",
       "1  2021-12-30  47123.3  46470.7  47901.4  46003.0  60.96K      1.42\n",
       "2  2021-12-29  46461.7  47548.4  48121.7  46127.8  63.92K     -2.28\n",
       "3  2021-12-28  47545.2  50703.4  50703.8  47345.7  74.39K     -6.18\n",
       "4  2021-12-27  50678.2  50783.6  52016.3  50459.0  43.90K     -0.20\n",
       "5  2021-12-26  50779.9  50404.0  51247.0  49527.0  32.34K      0.74\n",
       "6  2021-12-25  50406.4  50789.6  51140.2  50196.8  26.67K     -0.75\n",
       "7  2021-12-24  50786.1  50807.4  51795.3  50428.4  45.97K     -0.03\n",
       "8  2021-12-23  50801.0  48599.6  51355.6  48053.4  56.24K      4.53"
      ]
     },
     "execution_count": 14,
     "metadata": {},
     "output_type": "execute_result"
    }
   ],
   "source": [
    "Data_frame=data_set.loc[2021-12-31:2021-12-27]\n",
    "Data_frame =data_set.iloc[1:9]\n",
    "Data_frame"
   ]
  },
  {
   "cell_type": "code",
   "execution_count": 15,
   "id": "66e1b093",
   "metadata": {},
   "outputs": [
    {
     "name": "stdout",
     "output_type": "stream",
     "text": [
      "            Date    Price     Open     High      Low     Vol.  Change %\n",
      "0     2021-12-31  46219.5  47123.3  48553.9  45693.6   58.18K     -1.92\n",
      "1     2021-12-30  47123.3  46470.7  47901.4  46003.0   60.96K      1.42\n",
      "2     2021-12-29  46461.7  47548.4  48121.7  46127.8   63.92K     -2.28\n",
      "3     2021-12-28  47545.2  50703.4  50703.8  47345.7   74.39K     -6.18\n",
      "4     2021-12-27  50678.2  50783.6  52016.3  50459.0   43.90K     -0.20\n",
      "...          ...      ...      ...      ...      ...      ...       ...\n",
      "3648  2012-01-05      6.9      5.6      7.2      5.6  182.33K     24.78\n",
      "3649  2012-01-04      5.6      4.9      5.7      4.8  131.17K     14.14\n",
      "3650  2012-01-03      4.9      5.2      5.3      4.7  125.17K     -6.51\n",
      "3651  2012-01-02      5.2      5.3      5.5      4.8   69.15K     -0.95\n",
      "3652  2012-01-01      5.3      4.7      5.5      4.6  108.51K     11.65\n",
      "\n",
      "[3653 rows x 7 columns]\n"
     ]
    }
   ],
   "source": [
    "Data_frame=pd.DataFrame(data_set)\n",
    "print(Data_frame)"
   ]
  },
  {
   "cell_type": "code",
   "execution_count": 16,
   "id": "c800e8d3",
   "metadata": {},
   "outputs": [
    {
     "data": {
      "text/html": [
       "<div>\n",
       "<style scoped>\n",
       "    .dataframe tbody tr th:only-of-type {\n",
       "        vertical-align: middle;\n",
       "    }\n",
       "\n",
       "    .dataframe tbody tr th {\n",
       "        vertical-align: top;\n",
       "    }\n",
       "\n",
       "    .dataframe thead th {\n",
       "        text-align: right;\n",
       "    }\n",
       "</style>\n",
       "<table border=\"1\" class=\"dataframe\">\n",
       "  <thead>\n",
       "    <tr style=\"text-align: right;\">\n",
       "      <th></th>\n",
       "      <th>Price</th>\n",
       "      <th>Open</th>\n",
       "      <th>High</th>\n",
       "      <th>Low</th>\n",
       "      <th>Change %</th>\n",
       "    </tr>\n",
       "  </thead>\n",
       "  <tbody>\n",
       "    <tr>\n",
       "      <th>Price</th>\n",
       "      <td>1.000000</td>\n",
       "      <td>0.998946</td>\n",
       "      <td>0.999541</td>\n",
       "      <td>0.999434</td>\n",
       "      <td>-0.006382</td>\n",
       "    </tr>\n",
       "    <tr>\n",
       "      <th>Open</th>\n",
       "      <td>0.998946</td>\n",
       "      <td>1.000000</td>\n",
       "      <td>0.999564</td>\n",
       "      <td>0.999136</td>\n",
       "      <td>-0.019741</td>\n",
       "    </tr>\n",
       "    <tr>\n",
       "      <th>High</th>\n",
       "      <td>0.999541</td>\n",
       "      <td>0.999564</td>\n",
       "      <td>1.000000</td>\n",
       "      <td>0.999089</td>\n",
       "      <td>-0.012626</td>\n",
       "    </tr>\n",
       "    <tr>\n",
       "      <th>Low</th>\n",
       "      <td>0.999434</td>\n",
       "      <td>0.999136</td>\n",
       "      <td>0.999089</td>\n",
       "      <td>1.000000</td>\n",
       "      <td>-0.011388</td>\n",
       "    </tr>\n",
       "    <tr>\n",
       "      <th>Change %</th>\n",
       "      <td>-0.006382</td>\n",
       "      <td>-0.019741</td>\n",
       "      <td>-0.012626</td>\n",
       "      <td>-0.011388</td>\n",
       "      <td>1.000000</td>\n",
       "    </tr>\n",
       "  </tbody>\n",
       "</table>\n",
       "</div>"
      ],
      "text/plain": [
       "             Price      Open      High       Low  Change %\n",
       "Price     1.000000  0.998946  0.999541  0.999434 -0.006382\n",
       "Open      0.998946  1.000000  0.999564  0.999136 -0.019741\n",
       "High      0.999541  0.999564  1.000000  0.999089 -0.012626\n",
       "Low       0.999434  0.999136  0.999089  1.000000 -0.011388\n",
       "Change % -0.006382 -0.019741 -0.012626 -0.011388  1.000000"
      ]
     },
     "execution_count": 16,
     "metadata": {},
     "output_type": "execute_result"
    }
   ],
   "source": [
    "Data_frame.corr()"
   ]
  },
  {
   "cell_type": "code",
   "execution_count": 17,
   "id": "fa22ec3a",
   "metadata": {},
   "outputs": [
    {
     "data": {
      "text/html": [
       "<div>\n",
       "<style scoped>\n",
       "    .dataframe tbody tr th:only-of-type {\n",
       "        vertical-align: middle;\n",
       "    }\n",
       "\n",
       "    .dataframe tbody tr th {\n",
       "        vertical-align: top;\n",
       "    }\n",
       "\n",
       "    .dataframe thead th {\n",
       "        text-align: right;\n",
       "    }\n",
       "</style>\n",
       "<table border=\"1\" class=\"dataframe\">\n",
       "  <thead>\n",
       "    <tr style=\"text-align: right;\">\n",
       "      <th></th>\n",
       "      <th>Date</th>\n",
       "      <th>Price</th>\n",
       "      <th>Open</th>\n",
       "      <th>High</th>\n",
       "      <th>Low</th>\n",
       "      <th>Vol.</th>\n",
       "      <th>Change %</th>\n",
       "    </tr>\n",
       "  </thead>\n",
       "  <tbody>\n",
       "    <tr>\n",
       "      <th>0</th>\n",
       "      <td>2021-12-31</td>\n",
       "      <td>46219.5</td>\n",
       "      <td>47123.3</td>\n",
       "      <td>48553.9</td>\n",
       "      <td>45693.6</td>\n",
       "      <td>58.18K</td>\n",
       "      <td>-1.92</td>\n",
       "    </tr>\n",
       "    <tr>\n",
       "      <th>1</th>\n",
       "      <td>2021-12-30</td>\n",
       "      <td>47123.3</td>\n",
       "      <td>46470.7</td>\n",
       "      <td>47901.4</td>\n",
       "      <td>46003.0</td>\n",
       "      <td>60.96K</td>\n",
       "      <td>1.42</td>\n",
       "    </tr>\n",
       "    <tr>\n",
       "      <th>2</th>\n",
       "      <td>2021-12-29</td>\n",
       "      <td>46461.7</td>\n",
       "      <td>47548.4</td>\n",
       "      <td>48121.7</td>\n",
       "      <td>46127.8</td>\n",
       "      <td>63.92K</td>\n",
       "      <td>-2.28</td>\n",
       "    </tr>\n",
       "    <tr>\n",
       "      <th>3</th>\n",
       "      <td>2021-12-28</td>\n",
       "      <td>47545.2</td>\n",
       "      <td>50703.4</td>\n",
       "      <td>50703.8</td>\n",
       "      <td>47345.7</td>\n",
       "      <td>74.39K</td>\n",
       "      <td>-6.18</td>\n",
       "    </tr>\n",
       "    <tr>\n",
       "      <th>4</th>\n",
       "      <td>2021-12-27</td>\n",
       "      <td>50678.2</td>\n",
       "      <td>50783.6</td>\n",
       "      <td>52016.3</td>\n",
       "      <td>50459.0</td>\n",
       "      <td>43.90K</td>\n",
       "      <td>-0.20</td>\n",
       "    </tr>\n",
       "  </tbody>\n",
       "</table>\n",
       "</div>"
      ],
      "text/plain": [
       "         Date    Price     Open     High      Low    Vol.  Change %\n",
       "0  2021-12-31  46219.5  47123.3  48553.9  45693.6  58.18K     -1.92\n",
       "1  2021-12-30  47123.3  46470.7  47901.4  46003.0  60.96K      1.42\n",
       "2  2021-12-29  46461.7  47548.4  48121.7  46127.8  63.92K     -2.28\n",
       "3  2021-12-28  47545.2  50703.4  50703.8  47345.7  74.39K     -6.18\n",
       "4  2021-12-27  50678.2  50783.6  52016.3  50459.0  43.90K     -0.20"
      ]
     },
     "execution_count": 17,
     "metadata": {},
     "output_type": "execute_result"
    }
   ],
   "source": [
    "Data_frame.head()"
   ]
  },
  {
   "cell_type": "code",
   "execution_count": 18,
   "id": "c40b50e4",
   "metadata": {},
   "outputs": [
    {
     "name": "stdout",
     "output_type": "stream",
     "text": [
      "<class 'pandas.core.frame.DataFrame'>\n",
      "RangeIndex: 3653 entries, 0 to 3652\n",
      "Data columns (total 7 columns):\n",
      " #   Column    Non-Null Count  Dtype  \n",
      "---  ------    --------------  -----  \n",
      " 0   Date      3653 non-null   object \n",
      " 1   Price     3653 non-null   float64\n",
      " 2   Open      3653 non-null   float64\n",
      " 3   High      3653 non-null   float64\n",
      " 4   Low       3653 non-null   float64\n",
      " 5   Vol.      3653 non-null   object \n",
      " 6   Change %  3653 non-null   float64\n",
      "dtypes: float64(5), object(2)\n",
      "memory usage: 199.9+ KB\n"
     ]
    }
   ],
   "source": [
    "pd.DataFrame.info(Data_frame)"
   ]
  },
  {
   "cell_type": "code",
   "execution_count": 19,
   "id": "0ee38871",
   "metadata": {},
   "outputs": [
    {
     "data": {
      "text/html": [
       "<div>\n",
       "<style scoped>\n",
       "    .dataframe tbody tr th:only-of-type {\n",
       "        vertical-align: middle;\n",
       "    }\n",
       "\n",
       "    .dataframe tbody tr th {\n",
       "        vertical-align: top;\n",
       "    }\n",
       "\n",
       "    .dataframe thead th {\n",
       "        text-align: right;\n",
       "    }\n",
       "</style>\n",
       "<table border=\"1\" class=\"dataframe\">\n",
       "  <thead>\n",
       "    <tr style=\"text-align: right;\">\n",
       "      <th></th>\n",
       "      <th>Price</th>\n",
       "      <th>Open</th>\n",
       "      <th>High</th>\n",
       "      <th>Low</th>\n",
       "      <th>Change %</th>\n",
       "    </tr>\n",
       "  </thead>\n",
       "  <tbody>\n",
       "    <tr>\n",
       "      <th>count</th>\n",
       "      <td>3653.000000</td>\n",
       "      <td>3653.000000</td>\n",
       "      <td>3653.000000</td>\n",
       "      <td>3653.000000</td>\n",
       "      <td>3653.000000</td>\n",
       "    </tr>\n",
       "    <tr>\n",
       "      <th>mean</th>\n",
       "      <td>7896.499398</td>\n",
       "      <td>7883.910840</td>\n",
       "      <td>8112.471913</td>\n",
       "      <td>7629.652012</td>\n",
       "      <td>0.430088</td>\n",
       "    </tr>\n",
       "    <tr>\n",
       "      <th>std</th>\n",
       "      <td>14202.410636</td>\n",
       "      <td>14188.954496</td>\n",
       "      <td>14592.533286</td>\n",
       "      <td>13729.509135</td>\n",
       "      <td>7.586477</td>\n",
       "    </tr>\n",
       "    <tr>\n",
       "      <th>min</th>\n",
       "      <td>4.200000</td>\n",
       "      <td>4.200000</td>\n",
       "      <td>4.400000</td>\n",
       "      <td>3.900000</td>\n",
       "      <td>-57.210000</td>\n",
       "    </tr>\n",
       "    <tr>\n",
       "      <th>25%</th>\n",
       "      <td>268.600000</td>\n",
       "      <td>268.600000</td>\n",
       "      <td>277.100000</td>\n",
       "      <td>260.200000</td>\n",
       "      <td>-1.260000</td>\n",
       "    </tr>\n",
       "    <tr>\n",
       "      <th>50%</th>\n",
       "      <td>944.200000</td>\n",
       "      <td>943.500000</td>\n",
       "      <td>974.500000</td>\n",
       "      <td>912.700000</td>\n",
       "      <td>0.150000</td>\n",
       "    </tr>\n",
       "    <tr>\n",
       "      <th>75%</th>\n",
       "      <td>8630.200000</td>\n",
       "      <td>8628.600000</td>\n",
       "      <td>8807.700000</td>\n",
       "      <td>8309.600000</td>\n",
       "      <td>2.000000</td>\n",
       "    </tr>\n",
       "    <tr>\n",
       "      <th>max</th>\n",
       "      <td>67527.900000</td>\n",
       "      <td>67528.700000</td>\n",
       "      <td>68990.600000</td>\n",
       "      <td>66334.900000</td>\n",
       "      <td>336.840000</td>\n",
       "    </tr>\n",
       "  </tbody>\n",
       "</table>\n",
       "</div>"
      ],
      "text/plain": [
       "              Price          Open          High           Low     Change %\n",
       "count   3653.000000   3653.000000   3653.000000   3653.000000  3653.000000\n",
       "mean    7896.499398   7883.910840   8112.471913   7629.652012     0.430088\n",
       "std    14202.410636  14188.954496  14592.533286  13729.509135     7.586477\n",
       "min        4.200000      4.200000      4.400000      3.900000   -57.210000\n",
       "25%      268.600000    268.600000    277.100000    260.200000    -1.260000\n",
       "50%      944.200000    943.500000    974.500000    912.700000     0.150000\n",
       "75%     8630.200000   8628.600000   8807.700000   8309.600000     2.000000\n",
       "max    67527.900000  67528.700000  68990.600000  66334.900000   336.840000"
      ]
     },
     "execution_count": 19,
     "metadata": {},
     "output_type": "execute_result"
    }
   ],
   "source": [
    "Data_frame.describe()"
   ]
  },
  {
   "cell_type": "code",
   "execution_count": 20,
   "id": "392c045d",
   "metadata": {},
   "outputs": [
    {
     "data": {
      "text/plain": [
       "<AxesSubplot:xlabel='Price', ylabel='Open'>"
      ]
     },
     "execution_count": 20,
     "metadata": {},
     "output_type": "execute_result"
    },
    {
     "data": {
      "image/png": "[encoded data removed]",
      "text/plain": [
       "<Figure size 432x288 with 1 Axes>"
      ]
     },
     "metadata": {
      "needs_background": "light"
     },
     "output_type": "display_data"
    }
   ],
   "source": [
    "Data_frame.plot(kind='scatter', x='Price', y='Open', )"
   ]
  },
  {
   "cell_type": "code",
   "execution_count": 21,
   "id": "65650525",
   "metadata": {},
   "outputs": [
    {
     "data": {
      "text/plain": [
       "<AxesSubplot:ylabel='Frequency'>"
      ]
     },
     "execution_count": 21,
     "metadata": {},
     "output_type": "execute_result"
    },
    {
     "data": {
      "image/png": "[encoded data removed]",
      "text/plain": [
       "<Figure size 432x288 with 1 Axes>"
      ]
     },
     "metadata": {
      "needs_background": "light"
     },
     "output_type": "display_data"
    }
   ],
   "source": [
    "Data_frame.plot(kind='hist')"
   ]
  },
  {
   "cell_type": "code",
   "execution_count": 22,
   "id": "1adcfd04",
   "metadata": {},
   "outputs": [
    {
     "data": {
      "text/plain": [
       "<AxesSubplot:>"
      ]
     },
     "execution_count": 22,
     "metadata": {},
     "output_type": "execute_result"
    },
    {
     "data": {
      "image/png": "[encoded data removed]",
      "text/plain": [
       "<Figure size 432x288 with 1 Axes>"
      ]
     },
     "metadata": {
      "needs_background": "light"
     },
     "output_type": "display_data"
    }
   ],
   "source": [
    "Data_frame.plot(kind='box')"
   ]
  }
 ],
 "metadata": {
  "kernelspec": {
   "display_name": "Python 3 (ipykernel)",
   "language": "python",
   "name": "python3"
  },
  "language_info": {
   "codemirror_mode": {
    "name": "ipython",
    "version": 3
   },
   "file_extension": ".py",
   "mimetype": "text/x-python",
   "name": "python",
   "nbconvert_exporter": "python",
   "pygments_lexer": "ipython3",
   "version": "3.9.12"
  }
 },
 "nbformat": 4,
 "nbformat_minor": 5
}
