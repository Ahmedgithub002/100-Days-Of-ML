{
 "cells": [
  {
   "cell_type": "code",
   "execution_count": 17,
   "id": "46494746",
   "metadata": {},
   "outputs": [
    {
     "name": "stdout",
     "output_type": "stream",
     "text": [
      "500\n"
     ]
    }
   ],
   "source": [
    "count = 500\n",
    "print(count)"
   ]
  },
  {
   "cell_type": "code",
   "execution_count": 18,
   "id": "882cc81a",
   "metadata": {},
   "outputs": [
    {
     "name": "stdout",
     "output_type": "stream",
     "text": [
      "Ahmed Ali Khan\n"
     ]
    }
   ],
   "source": [
    "#String variable\n",
    "name = \"Ahmed Ali Khan\"\n",
    "print(name)"
   ]
  },
  {
   "cell_type": "code",
   "execution_count": 19,
   "id": "10dbeb2e",
   "metadata": {},
   "outputs": [
    {
     "data": {
      "text/plain": [
       "78.5"
      ]
     },
     "execution_count": 19,
     "metadata": {},
     "output_type": "execute_result"
    }
   ],
   "source": [
    "#float variable\n",
    "weight = 78.5\n",
    "weight"
   ]
  },
  {
   "cell_type": "code",
   "execution_count": 20,
   "id": "f037716e",
   "metadata": {},
   "outputs": [
    {
     "name": "stdout",
     "output_type": "stream",
     "text": [
      "True\n"
     ]
    }
   ],
   "source": [
    "#boolean variable\n",
    "value = True\n",
    "print(value)"
   ]
  },
  {
   "cell_type": "code",
   "execution_count": 21,
   "id": "514bb4c0",
   "metadata": {},
   "outputs": [
    {
     "data": {
      "text/plain": [
       "('apple', 'orange', 3.4, 7, 'banana')"
      ]
     },
     "execution_count": 21,
     "metadata": {},
     "output_type": "execute_result"
    }
   ],
   "source": [
    "#Tuple\n",
    "this_tuple = (\"apple\", \"orange\", 3.4, 7, \"banana\" )\n",
    "this_tuple"
   ]
  },
  {
   "cell_type": "code",
   "execution_count": 22,
   "id": "74cadc3c",
   "metadata": {},
   "outputs": [
    {
     "data": {
      "text/plain": [
       "['suzuki', 'toyoya', 'honda', 'mitsubishi']"
      ]
     },
     "execution_count": 22,
     "metadata": {},
     "output_type": "execute_result"
    }
   ],
   "source": [
    "#Array in Python\n",
    "cars = ['suzuki', 'toyoya', 'honda', 'mitsubishi']\n",
    "cars"
   ]
  },
  {
   "cell_type": "code",
   "execution_count": 23,
   "id": "231a98c1",
   "metadata": {},
   "outputs": [
    {
     "name": "stdout",
     "output_type": "stream",
     "text": [
      "Ahmed Ali Khan\n",
      "20\n",
      "Student\n"
     ]
    }
   ],
   "source": [
    "#Class\n",
    "class Person:\n",
    "    name = \"Ahmed Ali Khan\"\n",
    "    age = \"20\"\n",
    "    profession=\"Student\"\n",
    "\n",
    "p1 = Person()\n",
    "\n",
    "\n",
    "print(p1.name)\n",
    "print(p1.age)\n",
    "print(p1.profession)"
   ]
  },
  {
   "cell_type": "code",
   "execution_count": 24,
   "id": "3e4cb2a6",
   "metadata": {},
   "outputs": [
    {
     "name": "stdout",
     "output_type": "stream",
     "text": [
      "13\n",
      "11\n",
      "5\n",
      "71.5\n",
      "5112\n",
      "1704.0\n",
      "0.25\n"
     ]
    }
   ],
   "source": [
    "#mathematical operations \n",
    "addition = 8 + 5\n",
    "print(addition)\n",
    "\n",
    "sub = addition - 2\n",
    "print(sub)\n",
    "\n",
    "division = sub / 2\n",
    "print(int(division))\n",
    "\n",
    "multip = division * addition\n",
    "print(float(multip))\n",
    "\n",
    "square = multip ** 2\n",
    "print(int(square))\n",
    "\n",
    "modulo = square // 3\n",
    "print(modulo)\n",
    "\n",
    "remainder = square % 3\n",
    "print(remainder)"
   ]
  },
  {
   "cell_type": "code",
   "execution_count": null,
   "id": "01d5ce6f",
   "metadata": {},
   "outputs": [],
   "source": []
  }
 ],
 "metadata": {
  "kernelspec": {
   "display_name": "Python 3 (ipykernel)",
   "language": "python",
   "name": "python3"
  },
  "language_info": {
   "codemirror_mode": {
    "name": "ipython",
    "version": 3
   },
   "file_extension": ".py",
   "mimetype": "text/x-python",
   "name": "python",
   "nbconvert_exporter": "python",
   "pygments_lexer": "ipython3",
   "version": "3.9.12"
  }
 },
 "nbformat": 4,
 "nbformat_minor": 5
}
