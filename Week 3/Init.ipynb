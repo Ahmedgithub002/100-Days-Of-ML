{
 "cells": [
  {
   "cell_type": "code",
   "execution_count": 3,
   "id": "bd1ff971",
   "metadata": {},
   "outputs": [
    {
     "name": "stdout",
     "output_type": "stream",
     "text": [
      "<__main__.Item object at 0x000001ED8293D0D0>\n",
      "<__main__.Item object at 0x000001ED8293D280>\n",
      "Charger\n",
      "chair\n"
     ]
    }
   ],
   "source": [
    "class Item:\n",
    "    pass\n",
    "item_1 = Item()\n",
    "item_1.name = 'Charger'\n",
    "item_2 = Item()\n",
    "item_2.name = 'chair'\n",
    "print(item_1)\n",
    "print(item_2)\n",
    "#Here we have created an attribute of item_1 and item_2 that is named by item_1.name and item_2.name\n",
    "#To avoid the creation of attribtes manually, we can create __init__ magic method.\n",
    "class Item:\n",
    "    def __init__(self, name):\n",
    "        self.name = name\n",
    "item_1 = Item('Charger')\n",
    "item_2 = Item('chair')\n",
    "print(item_1.name)\n",
    "print(item_2.name)\n",
    "#SET:03\n",
    "#Now to demonstrate the arguments by its types we specify it in class as:\n",
    "class Item:\n",
    "    def __init__(self, name: str, price: int):\n",
    "        self.name = name\n"
   ]
  }
 ],
 "metadata": {
  "kernelspec": {
   "display_name": "Python 3 (ipykernel)",
   "language": "python",
   "name": "python3"
  },
  "language_info": {
   "codemirror_mode": {
    "name": "ipython",
    "version": 3
   },
   "file_extension": ".py",
   "mimetype": "text/x-python",
   "name": "python",
   "nbconvert_exporter": "python",
   "pygments_lexer": "ipython3",
   "version": "3.9.12"
  }
 },
 "nbformat": 4,
 "nbformat_minor": 5
}
