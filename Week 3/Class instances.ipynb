{
 "cells": [
  {
   "cell_type": "code",
   "execution_count": 2,
   "id": "6c83a9dd",
   "metadata": {},
   "outputs": [
    {
     "name": "stdout",
     "output_type": "stream",
     "text": [
      "Ali\n",
      "Shadab\n"
     ]
    }
   ],
   "source": [
    "class Employee:\n",
    "    def __init__ (self, first, last):\n",
    "        self.first = first\n",
    "        self.last = last\n",
    "\n",
    "#object of class Employee\n",
    "emp_1 = Employee('Ali', 'Ahmed')\n",
    "emp_2 = Employee('Shadab', 'Ahmed') \n",
    "\n",
    "#print(emp_1)\n",
    "#print(emp_2)\n",
    "\n",
    "#instance of class Employee\n",
    "print(emp_1.first)\n",
    "print(emp_2.first)"
   ]
  }
 ],
 "metadata": {
  "kernelspec": {
   "display_name": "Python 3 (ipykernel)",
   "language": "python",
   "name": "python3"
  },
  "language_info": {
   "codemirror_mode": {
    "name": "ipython",
    "version": 3
   },
   "file_extension": ".py",
   "mimetype": "text/x-python",
   "name": "python",
   "nbconvert_exporter": "python",
   "pygments_lexer": "ipython3",
   "version": "3.9.12"
  }
 },
 "nbformat": 4,
 "nbformat_minor": 5
}
