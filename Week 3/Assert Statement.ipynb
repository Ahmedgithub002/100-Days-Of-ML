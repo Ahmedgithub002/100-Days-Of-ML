{
 "cells": [
  {
   "cell_type": "code",
   "execution_count": 2,
   "id": "2f6c2f08",
   "metadata": {},
   "outputs": [
    {
     "name": "stdout",
     "output_type": "stream",
     "text": [
      "200000\n",
      "3000000\n"
     ]
    }
   ],
   "source": [
    "class Item:\n",
    "    def __init__(self, name: str, price: float, quantity=0):\n",
    "        #Run validation first\n",
    "        assert price >=0\n",
    "        assert quantity >= 0\n",
    "        \n",
    "        #assign to self objects\n",
    "        self.name = name\n",
    "        self.price = price\n",
    "        self.quantity = quantity\n",
    "    \n",
    "    #a function that calculates the total price\n",
    "    def calculate_price(self):\n",
    "        return self.price * self.quantity\n",
    "\n",
    "item_1 = Item('Phone', 100000, 2)\n",
    "item_2 = Item('Laptop', 3000000, 1)\n",
    "\n",
    "print(item_1.calculate_price())\n",
    "print(item_2.calculate_price())"
   ]
  }
 ],
 "metadata": {
  "kernelspec": {
   "display_name": "Python 3 (ipykernel)",
   "language": "python",
   "name": "python3"
  },
  "language_info": {
   "codemirror_mode": {
    "name": "ipython",
    "version": 3
   },
   "file_extension": ".py",
   "mimetype": "text/x-python",
   "name": "python",
   "nbconvert_exporter": "python",
   "pygments_lexer": "ipython3",
   "version": "3.9.12"
  }
 },
 "nbformat": 4,
 "nbformat_minor": 5
}
