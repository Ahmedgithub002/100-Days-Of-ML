{
 "cells": [
  {
   "cell_type": "code",
   "execution_count": null,
   "id": "5d12e746",
   "metadata": {},
   "outputs": [],
   "source": [
    "import pandas as pd\n",
    "import matplotlib.pyplot as plt\n",
    "import seaborn as sns\n",
    "import numpy as np\n",
    "from sklearn.model_selection import train_test_split"
   ]
  },
  {
   "cell_type": "code",
   "execution_count": 22,
   "id": "226da413",
   "metadata": {},
   "outputs": [],
   "source": [
    "df = pd.read_csv('BTC 2012-2021.csv')"
   ]
  },
  {
   "cell_type": "code",
   "execution_count": 23,
   "id": "d68a0ada",
   "metadata": {},
   "outputs": [
    {
     "data": {
      "text/html": [
       "<div>\n",
       "<style scoped>\n",
       "    .dataframe tbody tr th:only-of-type {\n",
       "        vertical-align: middle;\n",
       "    }\n",
       "\n",
       "    .dataframe tbody tr th {\n",
       "        vertical-align: top;\n",
       "    }\n",
       "\n",
       "    .dataframe thead th {\n",
       "        text-align: right;\n",
       "    }\n",
       "</style>\n",
       "<table border=\"1\" class=\"dataframe\">\n",
       "  <thead>\n",
       "    <tr style=\"text-align: right;\">\n",
       "      <th></th>\n",
       "      <th>Date</th>\n",
       "      <th>Price</th>\n",
       "      <th>Open</th>\n",
       "      <th>High</th>\n",
       "      <th>Low</th>\n",
       "      <th>Vol.</th>\n",
       "      <th>Change %</th>\n",
       "    </tr>\n",
       "  </thead>\n",
       "  <tbody>\n",
       "    <tr>\n",
       "      <th>0</th>\n",
       "      <td>2021-12-31</td>\n",
       "      <td>46219.5</td>\n",
       "      <td>47123.3</td>\n",
       "      <td>48553.9</td>\n",
       "      <td>45693.6</td>\n",
       "      <td>58.18K</td>\n",
       "      <td>-1.92</td>\n",
       "    </tr>\n",
       "    <tr>\n",
       "      <th>1</th>\n",
       "      <td>2021-12-30</td>\n",
       "      <td>47123.3</td>\n",
       "      <td>46470.7</td>\n",
       "      <td>47901.4</td>\n",
       "      <td>46003.0</td>\n",
       "      <td>60.96K</td>\n",
       "      <td>1.42</td>\n",
       "    </tr>\n",
       "    <tr>\n",
       "      <th>2</th>\n",
       "      <td>2021-12-29</td>\n",
       "      <td>46461.7</td>\n",
       "      <td>47548.4</td>\n",
       "      <td>48121.7</td>\n",
       "      <td>46127.8</td>\n",
       "      <td>63.92K</td>\n",
       "      <td>-2.28</td>\n",
       "    </tr>\n",
       "    <tr>\n",
       "      <th>3</th>\n",
       "      <td>2021-12-28</td>\n",
       "      <td>47545.2</td>\n",
       "      <td>50703.4</td>\n",
       "      <td>50703.8</td>\n",
       "      <td>47345.7</td>\n",
       "      <td>74.39K</td>\n",
       "      <td>-6.18</td>\n",
       "    </tr>\n",
       "    <tr>\n",
       "      <th>4</th>\n",
       "      <td>2021-12-27</td>\n",
       "      <td>50678.2</td>\n",
       "      <td>50783.6</td>\n",
       "      <td>52016.3</td>\n",
       "      <td>50459.0</td>\n",
       "      <td>43.90K</td>\n",
       "      <td>-0.20</td>\n",
       "    </tr>\n",
       "    <tr>\n",
       "      <th>...</th>\n",
       "      <td>...</td>\n",
       "      <td>...</td>\n",
       "      <td>...</td>\n",
       "      <td>...</td>\n",
       "      <td>...</td>\n",
       "      <td>...</td>\n",
       "      <td>...</td>\n",
       "    </tr>\n",
       "    <tr>\n",
       "      <th>3648</th>\n",
       "      <td>2012-01-05</td>\n",
       "      <td>6.9</td>\n",
       "      <td>5.6</td>\n",
       "      <td>7.2</td>\n",
       "      <td>5.6</td>\n",
       "      <td>182.33K</td>\n",
       "      <td>24.78</td>\n",
       "    </tr>\n",
       "    <tr>\n",
       "      <th>3649</th>\n",
       "      <td>2012-01-04</td>\n",
       "      <td>5.6</td>\n",
       "      <td>4.9</td>\n",
       "      <td>5.7</td>\n",
       "      <td>4.8</td>\n",
       "      <td>131.17K</td>\n",
       "      <td>14.14</td>\n",
       "    </tr>\n",
       "    <tr>\n",
       "      <th>3650</th>\n",
       "      <td>2012-01-03</td>\n",
       "      <td>4.9</td>\n",
       "      <td>5.2</td>\n",
       "      <td>5.3</td>\n",
       "      <td>4.7</td>\n",
       "      <td>125.17K</td>\n",
       "      <td>-6.51</td>\n",
       "    </tr>\n",
       "    <tr>\n",
       "      <th>3651</th>\n",
       "      <td>2012-01-02</td>\n",
       "      <td>5.2</td>\n",
       "      <td>5.3</td>\n",
       "      <td>5.5</td>\n",
       "      <td>4.8</td>\n",
       "      <td>69.15K</td>\n",
       "      <td>-0.95</td>\n",
       "    </tr>\n",
       "    <tr>\n",
       "      <th>3652</th>\n",
       "      <td>2012-01-01</td>\n",
       "      <td>5.3</td>\n",
       "      <td>4.7</td>\n",
       "      <td>5.5</td>\n",
       "      <td>4.6</td>\n",
       "      <td>108.51K</td>\n",
       "      <td>11.65</td>\n",
       "    </tr>\n",
       "  </tbody>\n",
       "</table>\n",
       "<p>3653 rows × 7 columns</p>\n",
       "</div>"
      ],
      "text/plain": [
       "            Date    Price     Open     High      Low     Vol.  Change %\n",
       "0     2021-12-31  46219.5  47123.3  48553.9  45693.6   58.18K     -1.92\n",
       "1     2021-12-30  47123.3  46470.7  47901.4  46003.0   60.96K      1.42\n",
       "2     2021-12-29  46461.7  47548.4  48121.7  46127.8   63.92K     -2.28\n",
       "3     2021-12-28  47545.2  50703.4  50703.8  47345.7   74.39K     -6.18\n",
       "4     2021-12-27  50678.2  50783.6  52016.3  50459.0   43.90K     -0.20\n",
       "...          ...      ...      ...      ...      ...      ...       ...\n",
       "3648  2012-01-05      6.9      5.6      7.2      5.6  182.33K     24.78\n",
       "3649  2012-01-04      5.6      4.9      5.7      4.8  131.17K     14.14\n",
       "3650  2012-01-03      4.9      5.2      5.3      4.7  125.17K     -6.51\n",
       "3651  2012-01-02      5.2      5.3      5.5      4.8   69.15K     -0.95\n",
       "3652  2012-01-01      5.3      4.7      5.5      4.6  108.51K     11.65\n",
       "\n",
       "[3653 rows x 7 columns]"
      ]
     },
     "execution_count": 23,
     "metadata": {},
     "output_type": "execute_result"
    }
   ],
   "source": [
    "df"
   ]
  },
  {
   "cell_type": "code",
   "execution_count": 24,
   "id": "d7956a53",
   "metadata": {},
   "outputs": [
    {
     "name": "stdout",
     "output_type": "stream",
     "text": [
      "       Date  Price   Open   High    Low   Vol.  Change %\n",
      "0     False  False  False  False  False  False     False\n",
      "1     False  False  False  False  False  False     False\n",
      "2     False  False  False  False  False  False     False\n",
      "3     False  False  False  False  False  False     False\n",
      "4     False  False  False  False  False  False     False\n",
      "...     ...    ...    ...    ...    ...    ...       ...\n",
      "3648  False  False  False  False  False  False     False\n",
      "3649  False  False  False  False  False  False     False\n",
      "3650  False  False  False  False  False  False     False\n",
      "3651  False  False  False  False  False  False     False\n",
      "3652  False  False  False  False  False  False     False\n",
      "\n",
      "[3653 rows x 7 columns]\n"
     ]
    }
   ],
   "source": [
    "print(df.isna())"
   ]
  },
  {
   "cell_type": "code",
   "execution_count": 25,
   "id": "3ae7ca7c",
   "metadata": {},
   "outputs": [
    {
     "data": {
      "image/png": "[encoded data removed]",
      "text/plain": [
       "<Figure size 432x288 with 1 Axes>"
      ]
     },
     "metadata": {
      "needs_background": "light"
     },
     "output_type": "display_data"
    }
   ],
   "source": [
    "sns.countplot(x = df['Price'], palette = 'Set1')\n",
    "plt.show()"
   ]
  },
  {
   "cell_type": "code",
   "execution_count": null,
   "id": "47323954",
   "metadata": {},
   "outputs": [],
   "source": [
    "#Logistic Regression"
   ]
  },
  {
   "cell_type": "code",
   "execution_count": 26,
   "id": "841b880e",
   "metadata": {},
   "outputs": [],
   "source": [
    "X = np.array(df['Price']).reshape(-1,1)\n",
    "y = np.array(df['Change %'])"
   ]
  },
  {
   "cell_type": "code",
   "execution_count": 27,
   "id": "af8797f5",
   "metadata": {},
   "outputs": [],
   "source": [
    "X_train, X_test, y_train, y_test = train_test_split(X, y, test_size = 0.2)"
   ]
  }
 ],
 "metadata": {
  "kernelspec": {
   "display_name": "Python 3 (ipykernel)",
   "language": "python",
   "name": "python3"
  },
  "language_info": {
   "codemirror_mode": {
    "name": "ipython",
    "version": 3
   },
   "file_extension": ".py",
   "mimetype": "text/x-python",
   "name": "python",
   "nbconvert_exporter": "python",
   "pygments_lexer": "ipython3",
   "version": "3.9.12"
  }
 },
 "nbformat": 4,
 "nbformat_minor": 5
}
