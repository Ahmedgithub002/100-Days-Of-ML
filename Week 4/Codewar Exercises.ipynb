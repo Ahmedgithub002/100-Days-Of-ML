{
 "cells": [
  {
   "cell_type": "code",
   "execution_count": 1,
   "id": "ed2d9c9e",
   "metadata": {},
   "outputs": [
    {
     "name": "stdout",
     "output_type": "stream",
     "text": [
      "Enter an String\n",
      "MOM\n",
      "Palindrome\n"
     ]
    }
   ],
   "source": [
    "def palindrome(word):\n",
    "    if(word[::-1] == word):\n",
    "        print('Palindrome')\n",
    "    else:\n",
    "        print('Not a Palindrome')\n",
    "    \n",
    "def main():\n",
    "    print('Enter an String')\n",
    "    word = input()\n",
    "    palindrome(word)\n",
    "main()"
   ]
  },
  {
   "cell_type": "code",
   "execution_count": 2,
   "id": "3d714088",
   "metadata": {},
   "outputs": [
    {
     "name": "stdout",
     "output_type": "stream",
     "text": [
      "Welcome to Percentage Calculator\n",
      "Enter the marks of subject 0\n",
      "50\n",
      "Enter the marks of subject 1\n",
      "88\n",
      "Enter the marks of subject 2\n",
      "90\n",
      "Enter the marks of subject 3\n",
      "93\n",
      "Enter the marks of subject 4\n",
      "100\n",
      "Enter the marks of subject 5\n",
      "2\n",
      "The percentage is:  76.9090909090909\n"
     ]
    }
   ],
   "source": [
    "#Percentage Calculator\n",
    "\n",
    "def average():\n",
    "    total = 0\n",
    "    for i in range(0, 6):\n",
    "        print('Enter the marks of subject', i)\n",
    "        mark = int(input())\n",
    "        total += mark\n",
    "    print('The percentage is: ', (total * 100) / 550)\n",
    "    \n",
    "def main():\n",
    "    print('Welcome to Percentage Calculator')\n",
    "    average()\n",
    "    \n",
    "main()   "
   ]
  },
  {
   "cell_type": "code",
   "execution_count": 3,
   "id": "efff509c",
   "metadata": {},
   "outputs": [
    {
     "name": "stdout",
     "output_type": "stream",
     "text": [
      "Enter a number\n",
      "3\n",
      "Number is not even\n"
     ]
    }
   ],
   "source": [
    "#Even Number Checker\n",
    "\n",
    "def even(number):\n",
    "    if number % 2 == 0:\n",
    "        print('Number is even')\n",
    "    else:\n",
    "        print('Number is not even')\n",
    "\n",
    "def main():\n",
    "    print('Enter a number')\n",
    "    num = int(input())\n",
    "    even(num)\n",
    "main()"
   ]
  },
  {
   "cell_type": "code",
   "execution_count": 4,
   "id": "4207dfc8",
   "metadata": {},
   "outputs": [
    {
     "name": "stdout",
     "output_type": "stream",
     "text": [
      "Sentence Smasher\n",
      "How many words you want to write in a sentence?\n",
      "2\n",
      "Enter a word\n",
      "Hello\n",
      "Enter a word\n",
      "Ahmed\n",
      "Hello Ahmed\n"
     ]
    }
   ],
   "source": [
    "#Sentence Smasher\n",
    "\n",
    "def sentence(length):\n",
    "    sentence = []\n",
    "    for i in range(0, length):\n",
    "        print('Enter a word')\n",
    "        sentence.append(input())\n",
    "    print(*sentence, sep = ' ')\n",
    "    \n",
    "def main():\n",
    "    print('Sentence Smasher')\n",
    "    print('How many words you want to write in a sentence?')\n",
    "    length = int(input())\n",
    "    sentence(length)\n",
    "main()"
   ]
  },
  {
   "cell_type": "code",
   "execution_count": 5,
   "id": "73c346e1",
   "metadata": {},
   "outputs": [
    {
     "name": "stdout",
     "output_type": "stream",
     "text": [
      "Enter the number\n",
      "5\n",
      "-5\n"
     ]
    }
   ],
   "source": [
    "#Make Negative\n",
    "\n",
    "def make_negative(number):\n",
    "    if(number == 0):\n",
    "        return number\n",
    "    elif(number[0] == '-'):\n",
    "        return number\n",
    "    else:\n",
    "        return '-' + number\n",
    "\n",
    "def main():\n",
    "    print('Enter the number')\n",
    "    num = input()\n",
    "    negative = make_negative(num)\n",
    "    print(negative)\n",
    "\n",
    "main()"
   ]
  },
  {
   "cell_type": "code",
   "execution_count": 6,
   "id": "ff832333",
   "metadata": {},
   "outputs": [
    {
     "name": "stdout",
     "output_type": "stream",
     "text": [
      "Needle Found at Posistion 3\n"
     ]
    }
   ],
   "source": [
    "#Needle in HayStack\n",
    "\n",
    "def find_Needle(hayStack):\n",
    "    for item in hayStack:\n",
    "        if(item == 'Needle'):\n",
    "            print('Needle Found at Posistion', hayStack.index(item))\n",
    "\n",
    "def main():\n",
    "    hayStack = ['Jay', 'Kay', 'Nay', 'Needle', 'Hay']\n",
    "    find_Needle(hayStack)\n",
    "    \n",
    "main()"
   ]
  },
  {
   "cell_type": "code",
   "execution_count": null,
   "id": "02aa6e2c",
   "metadata": {},
   "outputs": [],
   "source": []
  }
 ],
 "metadata": {
  "kernelspec": {
   "display_name": "Python 3 (ipykernel)",
   "language": "python",
   "name": "python3"
  },
  "language_info": {
   "codemirror_mode": {
    "name": "ipython",
    "version": 3
   },
   "file_extension": ".py",
   "mimetype": "text/x-python",
   "name": "python",
   "nbconvert_exporter": "python",
   "pygments_lexer": "ipython3",
   "version": "3.9.12"
  }
 },
 "nbformat": 4,
 "nbformat_minor": 5
}
