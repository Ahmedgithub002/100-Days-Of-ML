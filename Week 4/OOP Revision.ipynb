{
 "cells": [
  {
   "cell_type": "code",
   "execution_count": 1,
   "id": "c0b5c1ed",
   "metadata": {},
   "outputs": [],
   "source": [
    "class cat:\n",
    "    species = 'russian'\n",
    "    \n",
    "    #Constructor\n",
    "    def __init__(self, name, age, breed):\n",
    "        self.name = name\n",
    "        self.age = age\n",
    "        self.breed = breed\n",
    "        \n",
    "#     def description(self):\n",
    "#         return f\"{self.name} is {self.age} years old and a {cat.species} cat\"\n",
    "\n",
    "    #Dunder Method\n",
    "    def __str__(self):\n",
    "        return f\"{self.name} is {self.age} years old and a breed of {self.breed} cat\"\n",
    "    \n",
    "    def speak(self, sound):\n",
    "        return f\"{self.name} says {sound}\""
   ]
  },
  {
   "cell_type": "code",
   "execution_count": 2,
   "id": "46c0c697",
   "metadata": {},
   "outputs": [
    {
     "name": "stdout",
     "output_type": "stream",
     "text": [
      "wishi says Meow\n"
     ]
    }
   ],
   "source": [
    "class wishi(cat):\n",
    "    def speak(self, sound = 'Meow'):\n",
    "        return f\"{self.name} says {sound}\"\n",
    "\n",
    "wishi = wishi('wishi', 5, 'british shorthair')\n",
    "# print(wishi.breed)\n",
    "print(wishi.speak())"
   ]
  },
  {
   "cell_type": "code",
   "execution_count": 3,
   "id": "aa125489",
   "metadata": {},
   "outputs": [
    {
     "name": "stdout",
     "output_type": "stream",
     "text": [
      "jack says Meow Meow\n"
     ]
    }
   ],
   "source": [
    "class jack(cat):\n",
    "    def speak(self, sound = 'Meow Meow'):\n",
    "        return f\"{self.name} says {sound}\"\n",
    "\n",
    "jack = jack('jack', 6, 'persian')\n",
    "# print(jack.age)\n",
    "# print(jack)\n",
    "print(jack.speak())\n"
   ]
  },
  {
   "cell_type": "code",
   "execution_count": 4,
   "id": "4f5c1ba5",
   "metadata": {},
   "outputs": [
    {
     "name": "stdout",
     "output_type": "stream",
     "text": [
      "neil says Meoooooow\n"
     ]
    }
   ],
   "source": [
    "class neil(cat):\n",
    "    def speak(self, sound = 'Meoooooow'):\n",
    "        return f\"{self.name} says {sound}\"\n",
    "\n",
    "neil = neil('neil', 2, 'scottish fold')\n",
    "print(neil.speak())\n"
   ]
  }
 ],
 "metadata": {
  "kernelspec": {
   "display_name": "Python 3 (ipykernel)",
   "language": "python",
   "name": "python3"
  },
  "language_info": {
   "codemirror_mode": {
    "name": "ipython",
    "version": 3
   },
   "file_extension": ".py",
   "mimetype": "text/x-python",
   "name": "python",
   "nbconvert_exporter": "python",
   "pygments_lexer": "ipython3",
   "version": "3.9.12"
  }
 },
 "nbformat": 4,
 "nbformat_minor": 5
}
